{
 "cells": [
  {
   "cell_type": "code",
   "execution_count": 569,
   "metadata": {},
   "outputs": [],
   "source": [
    "import numpy as np\n",
    "from random import sample "
   ]
  },
  {
   "cell_type": "code",
   "execution_count": 570,
   "metadata": {},
   "outputs": [],
   "source": [
    "def generate_first_pick(nr_of_doors):\n",
    "    \n",
    "    \"\"\"\n",
    "    This function takes as input the number of doors,\n",
    "    and generates the position where we initially guess\n",
    "    that the car is located.    \n",
    "    \"\"\"\n",
    "    \n",
    "    choise_set = [x for x in range(nr_of_doors)]\n",
    "    initial_guess = np.random.choice(choise_set)\n",
    "    \n",
    "    return initial_guess"
   ]
  },
  {
   "cell_type": "code",
   "execution_count": 571,
   "metadata": {},
   "outputs": [],
   "source": [
    "def generate_car_placement(nr_of_doors):\n",
    "    \n",
    "    \"\"\"\n",
    "    This function takes as input the numbers of doors that we want,\n",
    "    and returns an array of lenght \"nr_of_doors\" where all entrys are \n",
    "    zero except one (which contains 1). The entry that contains 1 \n",
    "    is the door with the car.\n",
    "    \"\"\"\n",
    "    \n",
    "    output_list = []\n",
    "    \n",
    "    for x in range(nr_of_doors):\n",
    "        \n",
    "        output_list.append(0)\n",
    "    \n",
    "    element_to_one = np.random.choice(nr_of_doors)\n",
    "    output_list[element_to_one] = 1\n",
    "    \n",
    "    return output_list  "
   ]
  },
  {
   "cell_type": "code",
   "execution_count": 572,
   "metadata": {},
   "outputs": [],
   "source": [
    "def generate_list_of_open_doors(initial_pick, car_placement):\n",
    "    \n",
    "    \"\"\"\n",
    "    This function takes as input the list containing the placement of the car,\n",
    "    and the initial guess. Afterwards, it returns an array with doors opened by the host.\n",
    "    \"\"\"\n",
    "    \n",
    "    host_options = []\n",
    "    \n",
    "    for position, content in enumerate(car_placement):        \n",
    "        \n",
    "        if (content != 1) & (position != initial_pick):\n",
    "            \n",
    "            host_options.append(position)\n",
    "            \n",
    "        else:\n",
    "            \n",
    "            pass\n",
    "        \n",
    "    nr_of_doors_to_open = len(car_placement) - 2\n",
    "    doors_opened = sample(host_options, nr_of_doors_to_open)\n",
    "            \n",
    "    return doors_opened"
   ]
  },
  {
   "cell_type": "code",
   "execution_count": 634,
   "metadata": {},
   "outputs": [],
   "source": [
    "def action_by_player(initial_guess, car_placement, doors_opened, switch = False):\n",
    "    \n",
    "    \"\"\"\n",
    "    Function takes as input  initial_guess, car_placement,  doors_opened \n",
    "    and if we play switch or stay. Returns 1 if we win, other-wise.\n",
    "    \"\"\"\n",
    "    \n",
    "    if switch == False:\n",
    "        \n",
    "        if car_placement[initial_guess] == 1:\n",
    "            \n",
    "            return 1\n",
    "        \n",
    "        else:\n",
    "            \n",
    "            return 0\n",
    "        \n",
    "    else:\n",
    "        \n",
    "        pass\n",
    "        \n",
    "        \n",
    "        \n",
    "        \n",
    "        \n",
    "    "
   ]
  },
  {
   "cell_type": "code",
   "execution_count": 635,
   "metadata": {},
   "outputs": [],
   "source": [
    "nr_of_doors = 3"
   ]
  },
  {
   "cell_type": "code",
   "execution_count": 636,
   "metadata": {},
   "outputs": [],
   "source": [
    "initial_guess = generate_first_pick(nr_of_doors)"
   ]
  },
  {
   "cell_type": "code",
   "execution_count": 637,
   "metadata": {},
   "outputs": [],
   "source": [
    "car_placement = generate_car_placement(nr_of_doors)"
   ]
  },
  {
   "cell_type": "code",
   "execution_count": 638,
   "metadata": {},
   "outputs": [
    {
     "data": {
      "text/plain": [
       "0"
      ]
     },
     "execution_count": 638,
     "metadata": {},
     "output_type": "execute_result"
    }
   ],
   "source": [
    "initial_guess"
   ]
  },
  {
   "cell_type": "code",
   "execution_count": 639,
   "metadata": {},
   "outputs": [
    {
     "data": {
      "text/plain": [
       "[0, 1, 0]"
      ]
     },
     "execution_count": 639,
     "metadata": {},
     "output_type": "execute_result"
    }
   ],
   "source": [
    "car_placement"
   ]
  },
  {
   "cell_type": "code",
   "execution_count": 640,
   "metadata": {},
   "outputs": [
    {
     "data": {
      "text/plain": [
       "[0]"
      ]
     },
     "execution_count": 640,
     "metadata": {},
     "output_type": "execute_result"
    }
   ],
   "source": [
    "generate_list_of_open_doors(initial_pick, car_placement)"
   ]
  },
  {
   "cell_type": "code",
   "execution_count": 644,
   "metadata": {},
   "outputs": [],
   "source": [
    "host_options = []\n",
    "    \n",
    "for position, content in enumerate(car_placement):        \n",
    "        \n",
    "    if (content != 1) & (position != initial_guess):\n",
    "            \n",
    "        host_options.append(position)\n",
    "            \n",
    "    else:\n",
    "            \n",
    "        pass"
   ]
  },
  {
   "cell_type": "code",
   "execution_count": 645,
   "metadata": {},
   "outputs": [
    {
     "data": {
      "text/plain": [
       "[2]"
      ]
     },
     "execution_count": 645,
     "metadata": {},
     "output_type": "execute_result"
    }
   ],
   "source": [
    "host_options"
   ]
  },
  {
   "cell_type": "code",
   "execution_count": 646,
   "metadata": {},
   "outputs": [],
   "source": [
    "nr_of_doors_to_open = len(car_placement) - 2"
   ]
  },
  {
   "cell_type": "code",
   "execution_count": 647,
   "metadata": {},
   "outputs": [
    {
     "data": {
      "text/plain": [
       "1"
      ]
     },
     "execution_count": 647,
     "metadata": {},
     "output_type": "execute_result"
    }
   ],
   "source": [
    "nr_of_doors_to_open"
   ]
  },
  {
   "cell_type": "code",
   "execution_count": null,
   "metadata": {},
   "outputs": [],
   "source": [
    " doors_opened = sample(host_options, nr_of_doors_to_open)"
   ]
  }
 ],
 "metadata": {
  "kernelspec": {
   "display_name": "Python 3",
   "language": "python",
   "name": "python3"
  },
  "language_info": {
   "codemirror_mode": {
    "name": "ipython",
    "version": 3
   },
   "file_extension": ".py",
   "mimetype": "text/x-python",
   "name": "python",
   "nbconvert_exporter": "python",
   "pygments_lexer": "ipython3",
   "version": "3.6.0"
  }
 },
 "nbformat": 4,
 "nbformat_minor": 2
}
