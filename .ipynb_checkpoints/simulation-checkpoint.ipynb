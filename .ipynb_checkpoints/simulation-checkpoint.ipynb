{
 "cells": [
  {
   "cell_type": "code",
   "execution_count": 229,
   "metadata": {},
   "outputs": [],
   "source": [
    "import numpy as np\n",
    "from random import sample "
   ]
  },
  {
   "cell_type": "code",
   "execution_count": 230,
   "metadata": {},
   "outputs": [],
   "source": [
    "def generate_first_pick(nr_of_doors):\n",
    "    \n",
    "    \"\"\"\n",
    "    This function takes as input the number of doors,\n",
    "    and generates the position where we initially guess\n",
    "    that the car is located.    \n",
    "    \"\"\"\n",
    "    \n",
    "    choise_set = [x for x in range(nr_of_doors)]\n",
    "    initial_guess = np.random.choice(choise_set)\n",
    "    \n",
    "    return initial_guess"
   ]
  },
  {
   "cell_type": "code",
   "execution_count": 275,
   "metadata": {},
   "outputs": [],
   "source": [
    "def generate_car_placement(nr_of_doors):\n",
    "    \n",
    "    \"\"\"\n",
    "    This function takes as input the numbers of doors that we want,\n",
    "    and returns an array of lenght \"nr_of_doors\" where all entrys are \n",
    "    zero except one (which contains 1). The entry that contains 1 \n",
    "    is the door with the car.\n",
    "    \"\"\"\n",
    "    \n",
    "    output_list = []\n",
    "    \n",
    "    for x in range(nr_of_doors):\n",
    "        \n",
    "        output_list.append(0)\n",
    "    \n",
    "    element_to_one = np.random.choice(nr_of_doors)\n",
    "    output_list[element_to_one] = 1\n",
    "    \n",
    "    return output_list  "
   ]
  },
  {
   "cell_type": "code",
   "execution_count": 276,
   "metadata": {},
   "outputs": [],
   "source": [
    "def generate_list_of_open_doors(initial_pick, placement_array):\n",
    "    \n",
    "    \"\"\"\n",
    "    This function takes as input the array containing the placement of the car,\n",
    "    and the initial guess. Afterwards, it returns an array with doors opened by the host.\n",
    "    \"\"\"\n",
    "    \n",
    "    host_options = []\n",
    "    \n",
    "    for position, content in enumerate(placement_array):        \n",
    "        \n",
    "        if (content != 1) & (position != initial_pick):\n",
    "            \n",
    "            host_options.append(position)\n",
    "            \n",
    "        else:\n",
    "            \n",
    "            pass\n",
    "        \n",
    "    nr_of_doors_to_open = len(placement_array) - 2\n",
    "    doors_opened = sample(host_options, nr_of_doors_to_open)\n",
    "            \n",
    "    return host_options"
   ]
  },
  {
   "cell_type": "code",
   "execution_count": null,
   "metadata": {},
   "outputs": [],
   "source": []
  },
  {
   "cell_type": "code",
   "execution_count": null,
   "metadata": {},
   "outputs": [],
   "source": []
  },
  {
   "cell_type": "code",
   "execution_count": null,
   "metadata": {},
   "outputs": [],
   "source": []
  }
 ],
 "metadata": {
  "kernelspec": {
   "display_name": "Python 3",
   "language": "python",
   "name": "python3"
  },
  "language_info": {
   "codemirror_mode": {
    "name": "ipython",
    "version": 3
   },
   "file_extension": ".py",
   "mimetype": "text/x-python",
   "name": "python",
   "nbconvert_exporter": "python",
   "pygments_lexer": "ipython3",
   "version": "3.6.0"
  }
 },
 "nbformat": 4,
 "nbformat_minor": 2
}
